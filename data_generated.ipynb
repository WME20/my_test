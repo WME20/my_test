{
 "cells": [
  {
   "cell_type": "code",
   "execution_count": 1,
   "id": "69458ac3",
   "metadata": {},
   "outputs": [
    {
     "name": "stderr",
     "output_type": "stream",
     "text": [
      "/Users/mengmengwang/anaconda3/lib/python3.11/site-packages/pandas/core/arrays/masked.py:60: UserWarning: Pandas requires version '1.3.6' or newer of 'bottleneck' (version '1.3.5' currently installed).\n",
      "  from pandas.core import (\n"
     ]
    }
   ],
   "source": [
    "import pandas as pd\n",
    "import numpy as np\n",
    "import random"
   ]
  },
  {
   "cell_type": "code",
   "execution_count": 2,
   "id": "3ea663e8",
   "metadata": {},
   "outputs": [],
   "source": [
    "# 设置随机种子以确保结果可复现\n",
    "np.random.seed(42)"
   ]
  },
  {
   "cell_type": "code",
   "execution_count": 3,
   "id": "64e0ef75",
   "metadata": {},
   "outputs": [],
   "source": [
    "def generate_users_and_teachers(n_users=40000, n_teachers=100):\n",
    "    # 生成老师信息\n",
    "    teacher_ids = range(1000, 1000 + n_teachers)\n",
    "    teacher_groups = np.random.choice([\"A\", \"B\"], n_teachers, p=[0.5, 0.5])  # 随机分配教师组\n",
    "    teachers = pd.DataFrame({\n",
    "        \"teacher_id\": teacher_ids,\n",
    "        \"teacher_group\": teacher_groups,\n",
    "    })\n",
    "\n",
    "    # 生成用户信息\n",
    "    user_ids = range(1, n_users + 1)\n",
    "    cities = [\"一线\", \"新一线\", \"二线\", \"三线\", \"四线\", \"五线\"]\n",
    "    city_tiers = np.random.choice(cities, n_users, p=[0.1, 0.2, 0.25, 0.2, 0.15, 0.1])\n",
    "    enrollment_dates = np.random.choice([\"2024-01-06\", \"2024-01-07\"], n_users, p=[0.5, 0.5])\n",
    "    traffic_sources = np.random.choice([\"主流渠道\", \"次级渠道\"], n_users, p=[0.7, 0.3])\n",
    "\n",
    "    # 分配老师确保每位老师一期只带200名学生\n",
    "    teacher_assignments = {tid: {\"2024-01-06\": [], \"2024-01-07\": []} for tid in teachers['teacher_id']}\n",
    "    \n",
    "    for user_id, enrollment_date in zip(user_ids, enrollment_dates):\n",
    "        available_teachers = [\n",
    "            tid for tid in teacher_assignments\n",
    "            if len(teacher_assignments[tid][enrollment_date]) < 200\n",
    "        ]\n",
    "        \n",
    "        # 如果没有可用老师，尝试分配到其他期次\n",
    "        if not available_teachers:\n",
    "            # 尝试分配到另一期\n",
    "            other_date = \"2024-01-07\" if enrollment_date == \"2024-01-06\" else \"2024-01-06\"\n",
    "            available_teachers = [\n",
    "                tid for tid in teacher_assignments\n",
    "                if len(teacher_assignments[tid][other_date]) < 200\n",
    "            ]\n",
    "            if not available_teachers:\n",
    "                raise ValueError(f\"No available teachers for either date. \"\n",
    "                                 f\"Check the number of students per teacher or the number of teachers.\")\n",
    "            enrollment_date = other_date  # 更新期次\n",
    "\n",
    "        # 选择当前配额最少的老师\n",
    "        selected_teacher = min(available_teachers, key=lambda tid: len(teacher_assignments[tid][enrollment_date]))\n",
    "        teacher_assignments[selected_teacher][enrollment_date].append(user_id)\n",
    "\n",
    "    # 创建用户数据框\n",
    "    user_data = []\n",
    "    for teacher_id, assigned_users in teacher_assignments.items():\n",
    "        teacher_group = teachers.loc[teachers['teacher_id'] == teacher_id, 'teacher_group'].values[0]\n",
    "        for enrollment_date, users in assigned_users.items():\n",
    "            for user_id in users:\n",
    "                user_data.append({\n",
    "                    \"user_id\": user_id,\n",
    "                    \"city\": random.choice(cities),\n",
    "                    \"enrollment_date\": enrollment_date,\n",
    "                    \"traffic_source\": random.choice([\"主流渠道\", \"次级渠道\"]),\n",
    "                    \"experience_teacher_id\": teacher_id,\n",
    "                    \"teacher_group\": teacher_group\n",
    "                })\n",
    "\n",
    "    users = pd.DataFrame(user_data)\n",
    "    \n",
    "    return users, teachers"
   ]
  },
  {
   "cell_type": "code",
   "execution_count": 4,
   "id": "e79f4736",
   "metadata": {},
   "outputs": [],
   "source": [
    "# 生成家访电话记录表 (仅限实验组)\n",
    "def generate_call_logs(users, call_rate=0.8):\n",
    "    calls = []\n",
    "    for _, user in users.iterrows():\n",
    "        if (user[\"teacher_group\"] == \"A\") & (user[\"enrollment_date\"] == '2024-01-07') :  # 仅实验组的老师进行家访电话\n",
    "            if random.random() < call_rate:  # 假设 80% 实验组用户都接到家访电话\n",
    "                calls.append({\n",
    "                    \"call_id\": len(calls) + 1,\n",
    "                    \"teacher_id\": user[\"experience_teacher_id\"],\n",
    "                    \"user_id\": user[\"user_id\"],\n",
    "                    \"call_date\": pd.to_datetime(user[\"enrollment_date\"]) + pd.to_timedelta(np.random.randint(1, 10), unit=\"d\"),\n",
    "                    \"call_duration\": np.random.randint(3, 20)  # 通话时长 3-20 分钟\n",
    "                })\n",
    "    call_logs = pd.DataFrame(calls)\n",
    "    return call_logs"
   ]
  },
  {
   "cell_type": "code",
   "execution_count": 5,
   "id": "840793a1",
   "metadata": {},
   "outputs": [],
   "source": [
    "def generate_renewals(users, teachers):\n",
    "    # 为每位老师分配两个续报率：第一期（5%-10%）和第二期（10%-20%）\n",
    "    teacher_renewal_rates_1 = {tid: np.random.uniform(0.05, 0.1) for tid in teachers[\"teacher_id\"]}\n",
    "    teacher_renewal_rates_2 = {tid: np.random.uniform(0.1, 0.2) for tid in teachers[\"teacher_id\"]}\n",
    "\n",
    "    renewals = []\n",
    "    for _, user in users.iterrows():\n",
    "        finish_status = np.random.choice([1, 0], p=[0.9, 0.1])  # 90% 的用户完成课程\n",
    "        if finish_status == 1:\n",
    "            # 根据期次和分组选择续报率\n",
    "            if user[\"enrollment_date\"] == \"2024-01-06\":\n",
    "                renewal_rate = teacher_renewal_rates_1[user[\"experience_teacher_id\"]]\n",
    "            elif user[\"enrollment_date\"] == \"2024-01-07\":\n",
    "                if user[\"teacher_group\"] == \"A\":\n",
    "                    renewal_rate = teacher_renewal_rates_2[user[\"experience_teacher_id\"]]\n",
    "                else:\n",
    "                    renewal_rate = teacher_renewal_rates_1[user[\"experience_teacher_id\"]]\n",
    "            else:\n",
    "                raise ValueError(f\"Unexpected enrollment_date: {user['enrollment_date']}\")\n",
    "            \n",
    "            renewal_status = np.random.choice([1, 0], p=[renewal_rate, 1 - renewal_rate])\n",
    "        else:\n",
    "            renewal_status = 0\n",
    "\n",
    "        # 如果续报成功，生成续报日期\n",
    "        renewal_date = pd.to_datetime(user[\"enrollment_date\"]) + pd.to_timedelta(np.random.randint(1, 20), unit=\"d\") if renewal_status == 1 else None\n",
    "\n",
    "        renewals.append({\n",
    "            \"user_id\": user[\"user_id\"],\n",
    "            \"finish_status\": finish_status,\n",
    "            \"renewal_status\": renewal_status,\n",
    "            \"renewal_date\": renewal_date\n",
    "        })\n",
    "\n",
    "    renewals = pd.DataFrame(renewals)\n",
    "    return renewals"
   ]
  },
  {
   "cell_type": "code",
   "execution_count": 6,
   "id": "9e158824",
   "metadata": {},
   "outputs": [],
   "source": [
    "# 整合实验数据\n",
    "def construct_detailed_data(users, teachers, call_logs, renewals):\n",
    "\n",
    "    # 合并用户信息和续费信息\n",
    "    detailed_data = pd.merge(users, renewals, on=\"user_id\", how=\"left\")\n",
    "    # 合并家访电话记录\n",
    "    detailed_data = pd.merge(detailed_data, call_logs, on=\"user_id\", how=\"left\")\n",
    "    # 合并教师信息\n",
    "    detailed_data = pd.merge(detailed_data, teachers, left_on=\"experience_teacher_id\", right_on=\"teacher_id\", how=\"left\")\n",
    "    \n",
    "    # 删除 detailed_data 表中多余的的 teacher_id\n",
    "    detailed_data.drop('teacher_id_x',axis = 1, inplace = True)\n",
    "    detailed_data.drop('teacher_id_y',axis = 1, inplace = True)\n",
    "    \n",
    "    detailed_data.rename(columns = {'experience_teacher_id':'teacher_id'}, inplace  = True)\n",
    "\n",
    "    return detailed_data"
   ]
  },
  {
   "cell_type": "code",
   "execution_count": 7,
   "id": "a9464d9e",
   "metadata": {},
   "outputs": [],
   "source": [
    "# 生成虚拟数据\n",
    "users,teachers = generate_users_and_teachers()\n",
    "call_logs = generate_call_logs(users)\n",
    "renewals = generate_renewals(users,teachers)"
   ]
  },
  {
   "cell_type": "code",
   "execution_count": 8,
   "id": "c448e75d",
   "metadata": {},
   "outputs": [],
   "source": [
    "# 删除 users 表中的 teacher_group\n",
    "users.drop('teacher_group',axis = 1, inplace = True)"
   ]
  },
  {
   "cell_type": "code",
   "execution_count": 9,
   "id": "d2bb2444",
   "metadata": {},
   "outputs": [],
   "source": [
    "detailed_data = construct_detailed_data(users, teachers, call_logs, renewals)"
   ]
  },
  {
   "cell_type": "code",
   "execution_count": 10,
   "id": "dfb55861",
   "metadata": {},
   "outputs": [],
   "source": [
    "# 保存数据到 Excel 文件\n",
    "detailed_data.to_excel('AB_data.xlsx', index = False)\n",
    "\n",
    "# 创建一个 ExcelWriter 对象，指定保存的文件名\n",
    "output_file = \"generated_data.xlsx\"\n",
    "with pd.ExcelWriter(output_file, engine=\"openpyxl\") as writer:\n",
    "    \n",
    "    users.to_excel(writer, sheet_name='users', index=False)\n",
    "    call_logs.to_excel(writer, sheet_name='call_logs', index=False)\n",
    "    renewals.to_excel(writer, sheet_name='renewals', index=False)\n",
    "    teachers.to_excel(writer, sheet_name='teachers', index=False)"
   ]
  }
 ],
 "metadata": {
  "kernelspec": {
   "display_name": "Python 3 (ipykernel)",
   "language": "python",
   "name": "python3"
  },
  "language_info": {
   "codemirror_mode": {
    "name": "ipython",
    "version": 3
   },
   "file_extension": ".py",
   "mimetype": "text/x-python",
   "name": "python",
   "nbconvert_exporter": "python",
   "pygments_lexer": "ipython3",
   "version": "3.11.5"
  }
 },
 "nbformat": 4,
 "nbformat_minor": 5
}
